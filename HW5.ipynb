{
 "cells": [
  {
   "cell_type": "markdown",
   "metadata": {},
   "source": [
    "# Logistic Regression"
   ]
  },
  {
   "cell_type": "code",
   "execution_count": 16,
   "metadata": {},
   "outputs": [],
   "source": [
    "import numpy as np"
   ]
  },
  {
   "cell_type": "code",
   "execution_count": 17,
   "metadata": {},
   "outputs": [],
   "source": [
    "def logistic(gamma):\n",
    "    return 1/(1+np.exp(-gamma))\n",
    "\n",
    "def s(x, w):\n",
    "    return logistic(np.dot(x, w))\n",
    "\n",
    "def loss(x, y, w):\n",
    "    return -np.sum(y*np.log(s(x, w)) + (1-y)*np.log(1-s(x, w)))\n",
    "\n",
    "def dloss(x, y, w):\n",
    "    return np.dot(x.T, s(x, w)-y)\n",
    "\n",
    "def hessian(x, w):\n",
    "    s_ = s(x, w)\n",
    "    return x.T @ np.diag(s_*(1-s_)) @ x"
   ]
  },
  {
   "cell_type": "code",
   "execution_count": 25,
   "metadata": {},
   "outputs": [],
   "source": [
    "def newton_step(x, y, w):\n",
    "    return np.linalg.inv(hessian(x, w)).dot(dloss(x, y, w))\n",
    "\n",
    "def newton(x, y, w, iterations):\n",
    "    for i in range(iterations):\n",
    "        print(f'iteration {i+1}')\n",
    "        print(f'current s = {s(x, w).round(4)}')\n",
    "        print(f'current w = {w.round(4)}')\n",
    "        w -= newton_step(x, y, w)\n",
    "        print(f'iteration {i+1}: loss={loss(x, y, w)}')\n",
    "    return w"
   ]
  },
  {
   "cell_type": "code",
   "execution_count": 26,
   "metadata": {},
   "outputs": [],
   "source": [
    "x = np.array([[0.2, 3.1, 1], [1.0, 3.0, 1], [-0.2, 1.2, 1], [1.0, 1.1, 1]])\n",
    "y = np.array([1, 1, 0, 0])\n",
    "w = np.array([-1.0, 1.0, 0.0])"
   ]
  },
  {
   "cell_type": "code",
   "execution_count": 27,
   "metadata": {},
   "outputs": [
    {
     "name": "stdout",
     "output_type": "stream",
     "text": [
      "iteration 1\n",
      "current s = [0.9478 0.8808 0.8022 0.525 ]\n",
      "current w = [-1.  1.  0.]\n",
      "iteration 1: loss=0.22181167881550964\n",
      "iteration 2\n",
      "current s = [0.9474 0.9746 0.0312 0.1044]\n",
      "current w = [ 1.3247  3.0499 -6.8291]\n",
      "iteration 2: loss=0.07735414017785106\n",
      "iteration 3\n",
      "current s = [0.9813 0.9904 0.0112 0.037 ]\n",
      "current w = [ 1.366   4.1575 -9.1996]\n",
      "iteration 3: loss=0.027958217169289857\n"
     ]
    },
    {
     "data": {
      "text/plain": [
       "array([  1.44577215,   5.22176969, -11.48444666])"
      ]
     },
     "execution_count": 27,
     "metadata": {},
     "output_type": "execute_result"
    }
   ],
   "source": [
    "newton(x, y, w, 3)"
   ]
  }
 ],
 "metadata": {
  "kernelspec": {
   "display_name": "match",
   "language": "python",
   "name": "python3"
  },
  "language_info": {
   "codemirror_mode": {
    "name": "ipython",
    "version": 3
   },
   "file_extension": ".py",
   "mimetype": "text/x-python",
   "name": "python",
   "nbconvert_exporter": "python",
   "pygments_lexer": "ipython3",
   "version": "3.12.5"
  }
 },
 "nbformat": 4,
 "nbformat_minor": 2
}
